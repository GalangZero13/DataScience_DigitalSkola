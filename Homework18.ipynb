{
  "nbformat": 4,
  "nbformat_minor": 0,
  "metadata": {
    "colab": {
      "name": "Homework18.ipynb",
      "provenance": [],
      "collapsed_sections": [
        "lk0fWIwiqyQf",
        "jGtNFfV0q2mu",
        "p5SqEdK0rA8A",
        "BAXxTPgcrpTV",
        "0WdpgJgerzKb",
        "HRWVBv0Apwxm",
        "ymcAScResMiv"
      ]
    },
    "kernelspec": {
      "name": "python3",
      "display_name": "Python 3"
    },
    "language_info": {
      "name": "python"
    }
  },
  "cells": [
    {
      "cell_type": "markdown",
      "metadata": {
        "id": "Jcl6-xfdt-uD"
      },
      "source": [
        "# Homework 18 by: **Muhammad Galang Gardamukti**\n",
        "\n",
        "**\"Find the percentage of a loyal customer from the given data.\"**\n",
        ">Mencari persentase dari pelanggan yang loyal\n",
        "\n",
        "**Loyal customer is a customer that always have an occurence at least once every month.**\n",
        ">Pelanggan yang loyal adalah pelanggan yang setidaknya melakukan transaksi sekali tiap bulannya"
      ]
    },
    {
      "cell_type": "code",
      "metadata": {
        "id": "As8XbRHUCRVq"
      },
      "source": [
        "import pandas as pd\n",
        "import numpy as np\n",
        "from google.colab import files"
      ],
      "execution_count": 1,
      "outputs": []
    },
    {
      "cell_type": "markdown",
      "metadata": {
        "id": "lk0fWIwiqyQf"
      },
      "source": [
        "### **Upload the Data First!**\n",
        ">### Mengunggah Data!"
      ]
    },
    {
      "cell_type": "code",
      "metadata": {
        "colab": {
          "resources": {
            "http://localhost:8080/nbextensions/google.colab/files.js": {
              "data": "Ly8gQ29weXJpZ2h0IDIwMTcgR29vZ2xlIExMQwovLwovLyBMaWNlbnNlZCB1bmRlciB0aGUgQXBhY2hlIExpY2Vuc2UsIFZlcnNpb24gMi4wICh0aGUgIkxpY2Vuc2UiKTsKLy8geW91IG1heSBub3QgdXNlIHRoaXMgZmlsZSBleGNlcHQgaW4gY29tcGxpYW5jZSB3aXRoIHRoZSBMaWNlbnNlLgovLyBZb3UgbWF5IG9idGFpbiBhIGNvcHkgb2YgdGhlIExpY2Vuc2UgYXQKLy8KLy8gICAgICBodHRwOi8vd3d3LmFwYWNoZS5vcmcvbGljZW5zZXMvTElDRU5TRS0yLjAKLy8KLy8gVW5sZXNzIHJlcXVpcmVkIGJ5IGFwcGxpY2FibGUgbGF3IG9yIGFncmVlZCB0byBpbiB3cml0aW5nLCBzb2Z0d2FyZQovLyBkaXN0cmlidXRlZCB1bmRlciB0aGUgTGljZW5zZSBpcyBkaXN0cmlidXRlZCBvbiBhbiAiQVMgSVMiIEJBU0lTLAovLyBXSVRIT1VUIFdBUlJBTlRJRVMgT1IgQ09ORElUSU9OUyBPRiBBTlkgS0lORCwgZWl0aGVyIGV4cHJlc3Mgb3IgaW1wbGllZC4KLy8gU2VlIHRoZSBMaWNlbnNlIGZvciB0aGUgc3BlY2lmaWMgbGFuZ3VhZ2UgZ292ZXJuaW5nIHBlcm1pc3Npb25zIGFuZAovLyBsaW1pdGF0aW9ucyB1bmRlciB0aGUgTGljZW5zZS4KCi8qKgogKiBAZmlsZW92ZXJ2aWV3IEhlbHBlcnMgZm9yIGdvb2dsZS5jb2xhYiBQeXRob24gbW9kdWxlLgogKi8KKGZ1bmN0aW9uKHNjb3BlKSB7CmZ1bmN0aW9uIHNwYW4odGV4dCwgc3R5bGVBdHRyaWJ1dGVzID0ge30pIHsKICBjb25zdCBlbGVtZW50ID0gZG9jdW1lbnQuY3JlYXRlRWxlbWVudCgnc3BhbicpOwogIGVsZW1lbnQudGV4dENvbnRlbnQgPSB0ZXh0OwogIGZvciAoY29uc3Qga2V5IG9mIE9iamVjdC5rZXlzKHN0eWxlQXR0cmlidXRlcykpIHsKICAgIGVsZW1lbnQuc3R5bGVba2V5XSA9IHN0eWxlQXR0cmlidXRlc1trZXldOwogIH0KICByZXR1cm4gZWxlbWVudDsKfQoKLy8gTWF4IG51bWJlciBvZiBieXRlcyB3aGljaCB3aWxsIGJlIHVwbG9hZGVkIGF0IGEgdGltZS4KY29uc3QgTUFYX1BBWUxPQURfU0laRSA9IDEwMCAqIDEwMjQ7CgpmdW5jdGlvbiBfdXBsb2FkRmlsZXMoaW5wdXRJZCwgb3V0cHV0SWQpIHsKICBjb25zdCBzdGVwcyA9IHVwbG9hZEZpbGVzU3RlcChpbnB1dElkLCBvdXRwdXRJZCk7CiAgY29uc3Qgb3V0cHV0RWxlbWVudCA9IGRvY3VtZW50LmdldEVsZW1lbnRCeUlkKG91dHB1dElkKTsKICAvLyBDYWNoZSBzdGVwcyBvbiB0aGUgb3V0cHV0RWxlbWVudCB0byBtYWtlIGl0IGF2YWlsYWJsZSBmb3IgdGhlIG5leHQgY2FsbAogIC8vIHRvIHVwbG9hZEZpbGVzQ29udGludWUgZnJvbSBQeXRob24uCiAgb3V0cHV0RWxlbWVudC5zdGVwcyA9IHN0ZXBzOwoKICByZXR1cm4gX3VwbG9hZEZpbGVzQ29udGludWUob3V0cHV0SWQpOwp9CgovLyBUaGlzIGlzIHJvdWdobHkgYW4gYXN5bmMgZ2VuZXJhdG9yIChub3Qgc3VwcG9ydGVkIGluIHRoZSBicm93c2VyIHlldCksCi8vIHdoZXJlIHRoZXJlIGFyZSBtdWx0aXBsZSBhc3luY2hyb25vdXMgc3RlcHMgYW5kIHRoZSBQeXRob24gc2lkZSBpcyBnb2luZwovLyB0byBwb2xsIGZvciBjb21wbGV0aW9uIG9mIGVhY2ggc3RlcC4KLy8gVGhpcyB1c2VzIGEgUHJvbWlzZSB0byBibG9jayB0aGUgcHl0aG9uIHNpZGUgb24gY29tcGxldGlvbiBvZiBlYWNoIHN0ZXAsCi8vIHRoZW4gcGFzc2VzIHRoZSByZXN1bHQgb2YgdGhlIHByZXZpb3VzIHN0ZXAgYXMgdGhlIGlucHV0IHRvIHRoZSBuZXh0IHN0ZXAuCmZ1bmN0aW9uIF91cGxvYWRGaWxlc0NvbnRpbnVlKG91dHB1dElkKSB7CiAgY29uc3Qgb3V0cHV0RWxlbWVudCA9IGRvY3VtZW50LmdldEVsZW1lbnRCeUlkKG91dHB1dElkKTsKICBjb25zdCBzdGVwcyA9IG91dHB1dEVsZW1lbnQuc3RlcHM7CgogIGNvbnN0IG5leHQgPSBzdGVwcy5uZXh0KG91dHB1dEVsZW1lbnQubGFzdFByb21pc2VWYWx1ZSk7CiAgcmV0dXJuIFByb21pc2UucmVzb2x2ZShuZXh0LnZhbHVlLnByb21pc2UpLnRoZW4oKHZhbHVlKSA9PiB7CiAgICAvLyBDYWNoZSB0aGUgbGFzdCBwcm9taXNlIHZhbHVlIHRvIG1ha2UgaXQgYXZhaWxhYmxlIHRvIHRoZSBuZXh0CiAgICAvLyBzdGVwIG9mIHRoZSBnZW5lcmF0b3IuCiAgICBvdXRwdXRFbGVtZW50Lmxhc3RQcm9taXNlVmFsdWUgPSB2YWx1ZTsKICAgIHJldHVybiBuZXh0LnZhbHVlLnJlc3BvbnNlOwogIH0pOwp9CgovKioKICogR2VuZXJhdG9yIGZ1bmN0aW9uIHdoaWNoIGlzIGNhbGxlZCBiZXR3ZWVuIGVhY2ggYXN5bmMgc3RlcCBvZiB0aGUgdXBsb2FkCiAqIHByb2Nlc3MuCiAqIEBwYXJhbSB7c3RyaW5nfSBpbnB1dElkIEVsZW1lbnQgSUQgb2YgdGhlIGlucHV0IGZpbGUgcGlja2VyIGVsZW1lbnQuCiAqIEBwYXJhbSB7c3RyaW5nfSBvdXRwdXRJZCBFbGVtZW50IElEIG9mIHRoZSBvdXRwdXQgZGlzcGxheS4KICogQHJldHVybiB7IUl0ZXJhYmxlPCFPYmplY3Q+fSBJdGVyYWJsZSBvZiBuZXh0IHN0ZXBzLgogKi8KZnVuY3Rpb24qIHVwbG9hZEZpbGVzU3RlcChpbnB1dElkLCBvdXRwdXRJZCkgewogIGNvbnN0IGlucHV0RWxlbWVudCA9IGRvY3VtZW50LmdldEVsZW1lbnRCeUlkKGlucHV0SWQpOwogIGlucHV0RWxlbWVudC5kaXNhYmxlZCA9IGZhbHNlOwoKICBjb25zdCBvdXRwdXRFbGVtZW50ID0gZG9jdW1lbnQuZ2V0RWxlbWVudEJ5SWQob3V0cHV0SWQpOwogIG91dHB1dEVsZW1lbnQuaW5uZXJIVE1MID0gJyc7CgogIGNvbnN0IHBpY2tlZFByb21pc2UgPSBuZXcgUHJvbWlzZSgocmVzb2x2ZSkgPT4gewogICAgaW5wdXRFbGVtZW50LmFkZEV2ZW50TGlzdGVuZXIoJ2NoYW5nZScsIChlKSA9PiB7CiAgICAgIHJlc29sdmUoZS50YXJnZXQuZmlsZXMpOwogICAgfSk7CiAgfSk7CgogIGNvbnN0IGNhbmNlbCA9IGRvY3VtZW50LmNyZWF0ZUVsZW1lbnQoJ2J1dHRvbicpOwogIGlucHV0RWxlbWVudC5wYXJlbnRFbGVtZW50LmFwcGVuZENoaWxkKGNhbmNlbCk7CiAgY2FuY2VsLnRleHRDb250ZW50ID0gJ0NhbmNlbCB1cGxvYWQnOwogIGNvbnN0IGNhbmNlbFByb21pc2UgPSBuZXcgUHJvbWlzZSgocmVzb2x2ZSkgPT4gewogICAgY2FuY2VsLm9uY2xpY2sgPSAoKSA9PiB7CiAgICAgIHJlc29sdmUobnVsbCk7CiAgICB9OwogIH0pOwoKICAvLyBXYWl0IGZvciB0aGUgdXNlciB0byBwaWNrIHRoZSBmaWxlcy4KICBjb25zdCBmaWxlcyA9IHlpZWxkIHsKICAgIHByb21pc2U6IFByb21pc2UucmFjZShbcGlja2VkUHJvbWlzZSwgY2FuY2VsUHJvbWlzZV0pLAogICAgcmVzcG9uc2U6IHsKICAgICAgYWN0aW9uOiAnc3RhcnRpbmcnLAogICAgfQogIH07CgogIGNhbmNlbC5yZW1vdmUoKTsKCiAgLy8gRGlzYWJsZSB0aGUgaW5wdXQgZWxlbWVudCBzaW5jZSBmdXJ0aGVyIHBpY2tzIGFyZSBub3QgYWxsb3dlZC4KICBpbnB1dEVsZW1lbnQuZGlzYWJsZWQgPSB0cnVlOwoKICBpZiAoIWZpbGVzKSB7CiAgICByZXR1cm4gewogICAgICByZXNwb25zZTogewogICAgICAgIGFjdGlvbjogJ2NvbXBsZXRlJywKICAgICAgfQogICAgfTsKICB9CgogIGZvciAoY29uc3QgZmlsZSBvZiBmaWxlcykgewogICAgY29uc3QgbGkgPSBkb2N1bWVudC5jcmVhdGVFbGVtZW50KCdsaScpOwogICAgbGkuYXBwZW5kKHNwYW4oZmlsZS5uYW1lLCB7Zm9udFdlaWdodDogJ2JvbGQnfSkpOwogICAgbGkuYXBwZW5kKHNwYW4oCiAgICAgICAgYCgke2ZpbGUudHlwZSB8fCAnbi9hJ30pIC0gJHtmaWxlLnNpemV9IGJ5dGVzLCBgICsKICAgICAgICBgbGFzdCBtb2RpZmllZDogJHsKICAgICAgICAgICAgZmlsZS5sYXN0TW9kaWZpZWREYXRlID8gZmlsZS5sYXN0TW9kaWZpZWREYXRlLnRvTG9jYWxlRGF0ZVN0cmluZygpIDoKICAgICAgICAgICAgICAgICAgICAgICAgICAgICAgICAgICAgJ24vYSd9IC0gYCkpOwogICAgY29uc3QgcGVyY2VudCA9IHNwYW4oJzAlIGRvbmUnKTsKICAgIGxpLmFwcGVuZENoaWxkKHBlcmNlbnQpOwoKICAgIG91dHB1dEVsZW1lbnQuYXBwZW5kQ2hpbGQobGkpOwoKICAgIGNvbnN0IGZpbGVEYXRhUHJvbWlzZSA9IG5ldyBQcm9taXNlKChyZXNvbHZlKSA9PiB7CiAgICAgIGNvbnN0IHJlYWRlciA9IG5ldyBGaWxlUmVhZGVyKCk7CiAgICAgIHJlYWRlci5vbmxvYWQgPSAoZSkgPT4gewogICAgICAgIHJlc29sdmUoZS50YXJnZXQucmVzdWx0KTsKICAgICAgfTsKICAgICAgcmVhZGVyLnJlYWRBc0FycmF5QnVmZmVyKGZpbGUpOwogICAgfSk7CiAgICAvLyBXYWl0IGZvciB0aGUgZGF0YSB0byBiZSByZWFkeS4KICAgIGxldCBmaWxlRGF0YSA9IHlpZWxkIHsKICAgICAgcHJvbWlzZTogZmlsZURhdGFQcm9taXNlLAogICAgICByZXNwb25zZTogewogICAgICAgIGFjdGlvbjogJ2NvbnRpbnVlJywKICAgICAgfQogICAgfTsKCiAgICAvLyBVc2UgYSBjaHVua2VkIHNlbmRpbmcgdG8gYXZvaWQgbWVzc2FnZSBzaXplIGxpbWl0cy4gU2VlIGIvNjIxMTU2NjAuCiAgICBsZXQgcG9zaXRpb24gPSAwOwogICAgZG8gewogICAgICBjb25zdCBsZW5ndGggPSBNYXRoLm1pbihmaWxlRGF0YS5ieXRlTGVuZ3RoIC0gcG9zaXRpb24sIE1BWF9QQVlMT0FEX1NJWkUpOwogICAgICBjb25zdCBjaHVuayA9IG5ldyBVaW50OEFycmF5KGZpbGVEYXRhLCBwb3NpdGlvbiwgbGVuZ3RoKTsKICAgICAgcG9zaXRpb24gKz0gbGVuZ3RoOwoKICAgICAgY29uc3QgYmFzZTY0ID0gYnRvYShTdHJpbmcuZnJvbUNoYXJDb2RlLmFwcGx5KG51bGwsIGNodW5rKSk7CiAgICAgIHlpZWxkIHsKICAgICAgICByZXNwb25zZTogewogICAgICAgICAgYWN0aW9uOiAnYXBwZW5kJywKICAgICAgICAgIGZpbGU6IGZpbGUubmFtZSwKICAgICAgICAgIGRhdGE6IGJhc2U2NCwKICAgICAgICB9LAogICAgICB9OwoKICAgICAgbGV0IHBlcmNlbnREb25lID0gZmlsZURhdGEuYnl0ZUxlbmd0aCA9PT0gMCA/CiAgICAgICAgICAxMDAgOgogICAgICAgICAgTWF0aC5yb3VuZCgocG9zaXRpb24gLyBmaWxlRGF0YS5ieXRlTGVuZ3RoKSAqIDEwMCk7CiAgICAgIHBlcmNlbnQudGV4dENvbnRlbnQgPSBgJHtwZXJjZW50RG9uZX0lIGRvbmVgOwoKICAgIH0gd2hpbGUgKHBvc2l0aW9uIDwgZmlsZURhdGEuYnl0ZUxlbmd0aCk7CiAgfQoKICAvLyBBbGwgZG9uZS4KICB5aWVsZCB7CiAgICByZXNwb25zZTogewogICAgICBhY3Rpb246ICdjb21wbGV0ZScsCiAgICB9CiAgfTsKfQoKc2NvcGUuZ29vZ2xlID0gc2NvcGUuZ29vZ2xlIHx8IHt9OwpzY29wZS5nb29nbGUuY29sYWIgPSBzY29wZS5nb29nbGUuY29sYWIgfHwge307CnNjb3BlLmdvb2dsZS5jb2xhYi5fZmlsZXMgPSB7CiAgX3VwbG9hZEZpbGVzLAogIF91cGxvYWRGaWxlc0NvbnRpbnVlLAp9Owp9KShzZWxmKTsK",
              "ok": true,
              "headers": [
                [
                  "content-type",
                  "application/javascript"
                ]
              ],
              "status": 200,
              "status_text": ""
            }
          },
          "base_uri": "https://localhost:8080/",
          "height": 89
        },
        "id": "CDhpYlYOBaF0",
        "outputId": "6016d6e6-0698-4997-eb1d-b3211fa40847"
      },
      "source": [
        "uploaded = files.upload()"
      ],
      "execution_count": 2,
      "outputs": [
        {
          "output_type": "display_data",
          "data": {
            "text/html": [
              "\n",
              "     <input type=\"file\" id=\"files-61d92834-dcec-4ab4-901a-78048e308af6\" name=\"files[]\" multiple disabled\n",
              "        style=\"border:none\" />\n",
              "     <output id=\"result-61d92834-dcec-4ab4-901a-78048e308af6\">\n",
              "      Upload widget is only available when the cell has been executed in the\n",
              "      current browser session. Please rerun this cell to enable.\n",
              "      </output>\n",
              "      <script src=\"/nbextensions/google.colab/files.js\"></script> "
            ],
            "text/plain": [
              "<IPython.core.display.HTML object>"
            ]
          },
          "metadata": {}
        },
        {
          "output_type": "stream",
          "name": "stdout",
          "text": [
            "Saving Modul 18 - Dataset .xlsx to Modul 18 - Dataset .xlsx\n"
          ]
        }
      ]
    },
    {
      "cell_type": "markdown",
      "metadata": {
        "id": "jGtNFfV0q2mu"
      },
      "source": [
        "### **Read the Data!**\n",
        ">### Membaca Data-nya!"
      ]
    },
    {
      "cell_type": "code",
      "metadata": {
        "id": "MdcnfZgpCa2y"
      },
      "source": [
        "data = pd.read_excel(\"Modul 18 - Dataset .xlsx\")"
      ],
      "execution_count": 7,
      "outputs": []
    },
    {
      "cell_type": "code",
      "metadata": {
        "colab": {
          "base_uri": "https://localhost:8080/",
          "height": 589
        },
        "id": "IiyA9lybX7hy",
        "outputId": "7fa5377f-a231-4898-b329-082aeed7d7e7"
      },
      "source": [
        "data"
      ],
      "execution_count": 8,
      "outputs": [
        {
          "output_type": "execute_result",
          "data": {
            "text/html": [
              "<div>\n",
              "<style scoped>\n",
              "    .dataframe tbody tr th:only-of-type {\n",
              "        vertical-align: middle;\n",
              "    }\n",
              "\n",
              "    .dataframe tbody tr th {\n",
              "        vertical-align: top;\n",
              "    }\n",
              "\n",
              "    .dataframe thead th {\n",
              "        text-align: right;\n",
              "    }\n",
              "</style>\n",
              "<table border=\"1\" class=\"dataframe\">\n",
              "  <thead>\n",
              "    <tr style=\"text-align: right;\">\n",
              "      <th></th>\n",
              "      <th>InvoiceNo</th>\n",
              "      <th>StockCode</th>\n",
              "      <th>InvoiceDate</th>\n",
              "      <th>Day</th>\n",
              "      <th>Month</th>\n",
              "      <th>Year</th>\n",
              "      <th>Quantity</th>\n",
              "      <th>UnitPrice</th>\n",
              "      <th>CustomerID</th>\n",
              "      <th>Country</th>\n",
              "    </tr>\n",
              "  </thead>\n",
              "  <tbody>\n",
              "    <tr>\n",
              "      <th>0</th>\n",
              "      <td>539993</td>\n",
              "      <td>22386</td>\n",
              "      <td>2011-01-04 10:00:00</td>\n",
              "      <td>4</td>\n",
              "      <td>1</td>\n",
              "      <td>2011</td>\n",
              "      <td>10</td>\n",
              "      <td>1.95</td>\n",
              "      <td>13313</td>\n",
              "      <td>United Kingdom</td>\n",
              "    </tr>\n",
              "    <tr>\n",
              "      <th>1</th>\n",
              "      <td>539993</td>\n",
              "      <td>21499</td>\n",
              "      <td>2011-01-04 10:00:00</td>\n",
              "      <td>4</td>\n",
              "      <td>1</td>\n",
              "      <td>2011</td>\n",
              "      <td>25</td>\n",
              "      <td>0.42</td>\n",
              "      <td>13313</td>\n",
              "      <td>United Kingdom</td>\n",
              "    </tr>\n",
              "    <tr>\n",
              "      <th>2</th>\n",
              "      <td>539993</td>\n",
              "      <td>21498</td>\n",
              "      <td>2011-01-04 10:00:00</td>\n",
              "      <td>4</td>\n",
              "      <td>1</td>\n",
              "      <td>2011</td>\n",
              "      <td>25</td>\n",
              "      <td>0.42</td>\n",
              "      <td>13313</td>\n",
              "      <td>United Kingdom</td>\n",
              "    </tr>\n",
              "    <tr>\n",
              "      <th>3</th>\n",
              "      <td>539993</td>\n",
              "      <td>22379</td>\n",
              "      <td>2011-01-04 10:00:00</td>\n",
              "      <td>4</td>\n",
              "      <td>1</td>\n",
              "      <td>2011</td>\n",
              "      <td>5</td>\n",
              "      <td>2.10</td>\n",
              "      <td>13313</td>\n",
              "      <td>United Kingdom</td>\n",
              "    </tr>\n",
              "    <tr>\n",
              "      <th>4</th>\n",
              "      <td>539993</td>\n",
              "      <td>20718</td>\n",
              "      <td>2011-01-04 10:00:00</td>\n",
              "      <td>4</td>\n",
              "      <td>1</td>\n",
              "      <td>2011</td>\n",
              "      <td>10</td>\n",
              "      <td>1.25</td>\n",
              "      <td>13313</td>\n",
              "      <td>United Kingdom</td>\n",
              "    </tr>\n",
              "    <tr>\n",
              "      <th>...</th>\n",
              "      <td>...</td>\n",
              "      <td>...</td>\n",
              "      <td>...</td>\n",
              "      <td>...</td>\n",
              "      <td>...</td>\n",
              "      <td>...</td>\n",
              "      <td>...</td>\n",
              "      <td>...</td>\n",
              "      <td>...</td>\n",
              "      <td>...</td>\n",
              "    </tr>\n",
              "    <tr>\n",
              "      <th>371759</th>\n",
              "      <td>581587</td>\n",
              "      <td>22613</td>\n",
              "      <td>2011-12-09 12:50:00</td>\n",
              "      <td>9</td>\n",
              "      <td>12</td>\n",
              "      <td>2011</td>\n",
              "      <td>12</td>\n",
              "      <td>0.85</td>\n",
              "      <td>12680</td>\n",
              "      <td>France</td>\n",
              "    </tr>\n",
              "    <tr>\n",
              "      <th>371760</th>\n",
              "      <td>581587</td>\n",
              "      <td>22899</td>\n",
              "      <td>2011-12-09 12:50:00</td>\n",
              "      <td>9</td>\n",
              "      <td>12</td>\n",
              "      <td>2011</td>\n",
              "      <td>6</td>\n",
              "      <td>2.10</td>\n",
              "      <td>12680</td>\n",
              "      <td>France</td>\n",
              "    </tr>\n",
              "    <tr>\n",
              "      <th>371761</th>\n",
              "      <td>581587</td>\n",
              "      <td>23254</td>\n",
              "      <td>2011-12-09 12:50:00</td>\n",
              "      <td>9</td>\n",
              "      <td>12</td>\n",
              "      <td>2011</td>\n",
              "      <td>4</td>\n",
              "      <td>4.15</td>\n",
              "      <td>12680</td>\n",
              "      <td>France</td>\n",
              "    </tr>\n",
              "    <tr>\n",
              "      <th>371762</th>\n",
              "      <td>581587</td>\n",
              "      <td>23255</td>\n",
              "      <td>2011-12-09 12:50:00</td>\n",
              "      <td>9</td>\n",
              "      <td>12</td>\n",
              "      <td>2011</td>\n",
              "      <td>4</td>\n",
              "      <td>4.15</td>\n",
              "      <td>12680</td>\n",
              "      <td>France</td>\n",
              "    </tr>\n",
              "    <tr>\n",
              "      <th>371763</th>\n",
              "      <td>581587</td>\n",
              "      <td>22138</td>\n",
              "      <td>2011-12-09 12:50:00</td>\n",
              "      <td>9</td>\n",
              "      <td>12</td>\n",
              "      <td>2011</td>\n",
              "      <td>3</td>\n",
              "      <td>4.95</td>\n",
              "      <td>12680</td>\n",
              "      <td>France</td>\n",
              "    </tr>\n",
              "  </tbody>\n",
              "</table>\n",
              "<p>371764 rows × 10 columns</p>\n",
              "</div>"
            ],
            "text/plain": [
              "        InvoiceNo StockCode  ... CustomerID         Country\n",
              "0          539993     22386  ...      13313  United Kingdom\n",
              "1          539993     21499  ...      13313  United Kingdom\n",
              "2          539993     21498  ...      13313  United Kingdom\n",
              "3          539993     22379  ...      13313  United Kingdom\n",
              "4          539993     20718  ...      13313  United Kingdom\n",
              "...           ...       ...  ...        ...             ...\n",
              "371759     581587     22613  ...      12680          France\n",
              "371760     581587     22899  ...      12680          France\n",
              "371761     581587     23254  ...      12680          France\n",
              "371762     581587     23255  ...      12680          France\n",
              "371763     581587     22138  ...      12680          France\n",
              "\n",
              "[371764 rows x 10 columns]"
            ]
          },
          "metadata": {},
          "execution_count": 8
        }
      ]
    },
    {
      "cell_type": "markdown",
      "metadata": {
        "id": "p5SqEdK0rA8A"
      },
      "source": [
        "### **Selecting the column necessary to determine whether a customer is a loyal customer or not**\n",
        ">### Memilah kolom yang dibutuhkan untuk menentukan pelanggan loyal\n",
        "\n"
      ]
    },
    {
      "cell_type": "code",
      "metadata": {
        "colab": {
          "base_uri": "https://localhost:8080/",
          "height": 419
        },
        "id": "d91zNLlxdVgn",
        "outputId": "e496ec1b-5921-415f-c774-8fd3d32541be"
      },
      "source": [
        "data = data[['Month', 'CustomerID']]\n",
        "data"
      ],
      "execution_count": 26,
      "outputs": [
        {
          "output_type": "execute_result",
          "data": {
            "text/html": [
              "<div>\n",
              "<style scoped>\n",
              "    .dataframe tbody tr th:only-of-type {\n",
              "        vertical-align: middle;\n",
              "    }\n",
              "\n",
              "    .dataframe tbody tr th {\n",
              "        vertical-align: top;\n",
              "    }\n",
              "\n",
              "    .dataframe thead th {\n",
              "        text-align: right;\n",
              "    }\n",
              "</style>\n",
              "<table border=\"1\" class=\"dataframe\">\n",
              "  <thead>\n",
              "    <tr style=\"text-align: right;\">\n",
              "      <th></th>\n",
              "      <th>Month</th>\n",
              "      <th>CustomerID</th>\n",
              "    </tr>\n",
              "  </thead>\n",
              "  <tbody>\n",
              "    <tr>\n",
              "      <th>0</th>\n",
              "      <td>1</td>\n",
              "      <td>13313</td>\n",
              "    </tr>\n",
              "    <tr>\n",
              "      <th>1</th>\n",
              "      <td>1</td>\n",
              "      <td>13313</td>\n",
              "    </tr>\n",
              "    <tr>\n",
              "      <th>2</th>\n",
              "      <td>1</td>\n",
              "      <td>13313</td>\n",
              "    </tr>\n",
              "    <tr>\n",
              "      <th>3</th>\n",
              "      <td>1</td>\n",
              "      <td>13313</td>\n",
              "    </tr>\n",
              "    <tr>\n",
              "      <th>4</th>\n",
              "      <td>1</td>\n",
              "      <td>13313</td>\n",
              "    </tr>\n",
              "    <tr>\n",
              "      <th>...</th>\n",
              "      <td>...</td>\n",
              "      <td>...</td>\n",
              "    </tr>\n",
              "    <tr>\n",
              "      <th>371759</th>\n",
              "      <td>12</td>\n",
              "      <td>12680</td>\n",
              "    </tr>\n",
              "    <tr>\n",
              "      <th>371760</th>\n",
              "      <td>12</td>\n",
              "      <td>12680</td>\n",
              "    </tr>\n",
              "    <tr>\n",
              "      <th>371761</th>\n",
              "      <td>12</td>\n",
              "      <td>12680</td>\n",
              "    </tr>\n",
              "    <tr>\n",
              "      <th>371762</th>\n",
              "      <td>12</td>\n",
              "      <td>12680</td>\n",
              "    </tr>\n",
              "    <tr>\n",
              "      <th>371763</th>\n",
              "      <td>12</td>\n",
              "      <td>12680</td>\n",
              "    </tr>\n",
              "  </tbody>\n",
              "</table>\n",
              "<p>371764 rows × 2 columns</p>\n",
              "</div>"
            ],
            "text/plain": [
              "        Month  CustomerID\n",
              "0           1       13313\n",
              "1           1       13313\n",
              "2           1       13313\n",
              "3           1       13313\n",
              "4           1       13313\n",
              "...       ...         ...\n",
              "371759     12       12680\n",
              "371760     12       12680\n",
              "371761     12       12680\n",
              "371762     12       12680\n",
              "371763     12       12680\n",
              "\n",
              "[371764 rows x 2 columns]"
            ]
          },
          "metadata": {},
          "execution_count": 26
        }
      ]
    },
    {
      "cell_type": "markdown",
      "metadata": {
        "id": "BAXxTPgcrpTV"
      },
      "source": [
        "### **Make sure the type of data from each column**\n",
        ">### Memastikan tipe data dari kolom yang diambil"
      ]
    },
    {
      "cell_type": "code",
      "metadata": {
        "colab": {
          "base_uri": "https://localhost:8080/"
        },
        "id": "as0tDGouccDL",
        "outputId": "fdf5e7bd-313c-4fd9-e6b6-a15204d9bc74"
      },
      "source": [
        "data.info()"
      ],
      "execution_count": 27,
      "outputs": [
        {
          "output_type": "stream",
          "name": "stdout",
          "text": [
            "<class 'pandas.core.frame.DataFrame'>\n",
            "RangeIndex: 371764 entries, 0 to 371763\n",
            "Data columns (total 2 columns):\n",
            " #   Column      Non-Null Count   Dtype\n",
            "---  ------      --------------   -----\n",
            " 0   Month       371764 non-null  int64\n",
            " 1   CustomerID  371764 non-null  int64\n",
            "dtypes: int64(2)\n",
            "memory usage: 5.7 MB\n"
          ]
        }
      ]
    },
    {
      "cell_type": "markdown",
      "metadata": {
        "id": "0WdpgJgerzKb"
      },
      "source": [
        "### **Get the distinct values and its total appearance from each column**\n",
        ">### Mendapatkan nilai beda dan jumlah kemunculannya dari tiap kolom"
      ]
    },
    {
      "cell_type": "code",
      "metadata": {
        "colab": {
          "base_uri": "https://localhost:8080/"
        },
        "id": "WppDnuFxX-dR",
        "outputId": "46cbf951-d857-4726-9cc4-907373d0aa68"
      },
      "source": [
        "customer = data['CustomerID']\n",
        "unique_cust = customer.unique()\n",
        "customer.value_counts()"
      ],
      "execution_count": 28,
      "outputs": [
        {
          "output_type": "execute_result",
          "data": {
            "text/plain": [
              "17841    7560\n",
              "14911    5385\n",
              "14096    5111\n",
              "12748    3928\n",
              "14606    2472\n",
              "         ... \n",
              "13307       1\n",
              "15753       1\n",
              "13841       1\n",
              "13106       1\n",
              "15940       1\n",
              "Name: CustomerID, Length: 4220, dtype: int64"
            ]
          },
          "metadata": {},
          "execution_count": 28
        }
      ]
    },
    {
      "cell_type": "code",
      "metadata": {
        "colab": {
          "base_uri": "https://localhost:8080/"
        },
        "id": "cNRcW2qDbWsU",
        "outputId": "ddfc51e4-7537-4c95-f66e-469d17dc2ff4"
      },
      "source": [
        "month = data['Month']\n",
        "unique_month = month.unique()\n",
        "month.value_counts()"
      ],
      "execution_count": 33,
      "outputs": [
        {
          "output_type": "execute_result",
          "data": {
            "text/plain": [
              "11    64545\n",
              "10    49557\n",
              "9     40030\n",
              "5     28322\n",
              "6     27185\n",
              "3     27177\n",
              "8     27013\n",
              "7     26827\n",
              "4     22644\n",
              "1     21232\n",
              "2     19928\n",
              "12    17304\n",
              "Name: Month, dtype: int64"
            ]
          },
          "metadata": {},
          "execution_count": 33
        }
      ]
    },
    {
      "cell_type": "code",
      "metadata": {
        "colab": {
          "base_uri": "https://localhost:8080/"
        },
        "id": "Co3_uzD_fhBC",
        "outputId": "af285c75-c736-4761-a09f-1abff94c4276"
      },
      "source": [
        "print(unique_month)\n",
        "print(unique_cust)"
      ],
      "execution_count": 60,
      "outputs": [
        {
          "output_type": "stream",
          "name": "stdout",
          "text": [
            "[ 1  2  3  4  5  6  7  8  9 10 11 12]\n",
            "[13313 18097 16656 ... 13298 14569 12713]\n"
          ]
        }
      ]
    },
    {
      "cell_type": "markdown",
      "metadata": {
        "id": "HRWVBv0Apwxm"
      },
      "source": [
        "### **Logic to find the loyal customers each month:**\n",
        "1. Filtering the 'data' with months from **['unique_month']** and the customer from **['unique_cust]**\n",
        "2. If the said customer is actually make a transaction that month, the system will eventually had an output of the filtered table\n",
        "3. Count the length of the filtered table\n",
        "4. If the length is 1 or more, then it means the said customer had a transaction that month. The monthly occurence variable will add 1.\n",
        "5. If the monthly occurence variable has a value of 12 or more, then the customer is a loyal customer\n",
        "\n",
        "### Logika mencari Pelanggan Loyal tiap bulan:\n",
        "1. Memfilter dari 'data' dengan bulan yang ada di **['unique_month']** dan customer yang ada di **['unique_cust']**\n",
        "2. Jika memang pelanggan tersebut ada di bulan itu, maka pasti sistem akan mengeluarkan tabel lokasi/filter\n",
        "3. Hitung panjang data hasil filter/locating\n",
        "4. Jika hasilnya ada lebih dari 1, maka di dia belanja di bulan itu. Variabel penghitung bulanan akan menjumlahkan dirinya dengan 1\n",
        "5. Jika variabel penghitung bulanan memiliki 12 atau lebih, maka dia pelanggan loyal"
      ]
    },
    {
      "cell_type": "code",
      "metadata": {
        "colab": {
          "base_uri": "https://localhost:8080/"
        },
        "id": "GDdhaGD1e_GD",
        "outputId": "84e8bee5-1feb-4f85-f48a-f1dcacb80dac"
      },
      "source": [
        "loyal_cust = []\n",
        "for i in unique_cust:\n",
        "  monthly_count = 0\n",
        "  for j in unique_month:\n",
        "    rec = data.loc[(data['Month']==j) & (data['CustomerID']==i), ['Month','CustomerID']]\n",
        "    if len(rec) > 0:\n",
        "      monthly_count += 1\n",
        "  if monthly_count >= 12:\n",
        "    loyal_cust.append(i)\n",
        "\n",
        "loyal_cust"
      ],
      "execution_count": 46,
      "outputs": [
        {
          "output_type": "execute_result",
          "data": {
            "text/plain": [
              "[17315,\n",
              " 14606,\n",
              " 13319,\n",
              " 17841,\n",
              " 17428,\n",
              " 17675,\n",
              " 13694,\n",
              " 13798,\n",
              " 15311,\n",
              " 15769,\n",
              " 13089,\n",
              " 14527,\n",
              " 18109,\n",
              " 17511,\n",
              " 16033,\n",
              " 13199,\n",
              " 15358,\n",
              " 12682,\n",
              " 12748,\n",
              " 17949,\n",
              " 12841,\n",
              " 13408,\n",
              " 12971,\n",
              " 16013,\n",
              " 14298,\n",
              " 13069,\n",
              " 17757,\n",
              " 14911,\n",
              " 17811,\n",
              " 17381,\n",
              " 14060,\n",
              " 15061,\n",
              " 13468,\n",
              " 13078,\n",
              " 15189,\n",
              " 13777,\n",
              " 14646,\n",
              " 17576,\n",
              " 16931,\n",
              " 14796,\n",
              " 16558,\n",
              " 15078,\n",
              " 14534,\n",
              " 17677,\n",
              " 17735,\n",
              " 13098,\n",
              " 14051,\n",
              " 12720]"
            ]
          },
          "metadata": {},
          "execution_count": 46
        }
      ]
    },
    {
      "cell_type": "markdown",
      "metadata": {
        "id": "ymcAScResMiv"
      },
      "source": [
        "### **So, the loyal customer percentage over all of customers is...**\n",
        ">### Jadi, persentase pelanggan yang loyal dari keseluruhan jumlah pelanggan adalah..."
      ]
    },
    {
      "cell_type": "code",
      "metadata": {
        "colab": {
          "base_uri": "https://localhost:8080/"
        },
        "id": "tLdGD7d_oBRT",
        "outputId": "d8fead74-72bb-42ee-ddf3-022cf0ff670c"
      },
      "source": [
        "print('Daftar CustomerID yang loyal adalah:')\n",
        "print(loyal_cust)\n",
        "\n",
        "jumlah_loyal = len(loyal_cust)\n",
        "print('Jumlah pelanggan yang loyal adalah:', jumlah_loyal)\n",
        "\n",
        "jumlah_customer = len(unique_cust)\n",
        "print('Jumlah total pelanggan adalah:', jumlah_customer)\n",
        "\n",
        "persentase = jumlah_loyal/jumlah_customer\n",
        "print('Persentase pelanggan loyal dari keseluruhan pelanggan adalah:',persentase*100,'%')"
      ],
      "execution_count": 61,
      "outputs": [
        {
          "output_type": "stream",
          "name": "stdout",
          "text": [
            "Daftar CustomerID yang loyal adalah:\n",
            "[17315, 14606, 13319, 17841, 17428, 17675, 13694, 13798, 15311, 15769, 13089, 14527, 18109, 17511, 16033, 13199, 15358, 12682, 12748, 17949, 12841, 13408, 12971, 16013, 14298, 13069, 17757, 14911, 17811, 17381, 14060, 15061, 13468, 13078, 15189, 13777, 14646, 17576, 16931, 14796, 16558, 15078, 14534, 17677, 17735, 13098, 14051, 12720]\n",
            "Jumlah pelanggan yang loyal adalah: 48\n",
            "Jumlah total pelanggan adalah: 4220\n",
            "Persentase pelanggan loyal dari keseluruhan pelanggan adalah: 1.1374407582938388 %\n"
          ]
        }
      ]
    }
  ]
}